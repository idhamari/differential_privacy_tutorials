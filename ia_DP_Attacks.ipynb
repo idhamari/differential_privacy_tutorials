{
  "nbformat": 4,
  "nbformat_minor": 0,
  "metadata": {
    "colab": {
      "provenance": [],
      "toc_visible": true,
      "include_colab_link": true
    },
    "kernelspec": {
      "name": "python3",
      "display_name": "Python 3"
    },
    "language_info": {
      "name": "python"
    }
  },
  "cells": [
    {
      "cell_type": "markdown",
      "metadata": {
        "id": "view-in-github",
        "colab_type": "text"
      },
      "source": [
        "<a href=\"https://colab.research.google.com/github/idhamari/differential_privacy_tutorials/blob/main/ia_DP_Attacks.ipynb\" target=\"_parent\"><img src=\"https://colab.research.google.com/assets/colab-badge.svg\" alt=\"Open In Colab\"/></a>"
      ]
    },
    {
      "cell_type": "markdown",
      "source": [
        "# About:\n",
        "\n",
        "\n",
        "In these tutorial, I will try to explain Differential Privacy (DP) in a practical way with examples using simple python scripts. I will try to add more details, examples, and scripts whenever i find the time, so please consider this work in progress.\n",
        "\n",
        "Resources:\n",
        "\n"
      ],
      "metadata": {
        "id": "i-oKsY5MCoPv"
      }
    },
    {
      "cell_type": "markdown",
      "source": [
        "## Introduction to Data Privacy:\n",
        "\n",
        "**Data privacy** is the concept that refers to the protection and management of personal or sensitive information to ensure that it remains confidential, secure, and used appropriately. With the increasing digitization and collection of vast amounts of data, data privacy has become a critical concern for individuals, organizations, and governments. It encompasses the ethical and legal considerations surrounding the collection, storage, sharing, and usage of personal data.\n",
        "\n",
        "In today's interconnected world, where data is collected from various sources such as social media platforms, online transactions, healthcare records, and IoT devices, maintaining data privacy is challenging. Protecting personal information is crucial as it includes details like names, addresses, financial records, health information, and other sensitive attributes that can be misused or exploited if not adequately safeguarded.\n",
        "\n",
        "**Real-Life Examples: The Limitations of Removing Names and Fields**\n",
        "\n",
        "Removing names and certain identifiable fields from datasets has been a common practice to protect privacy. However, this approach alone is often insufficient to guarantee privacy due to the following reasons:\n",
        "\n",
        "**Membership disclosure** means that data linkage allows an attacker to determine whether or not data about an individual is contained in a dataset. While this does not directly disclose any information from the dataset itself, it may allow an attacker to infer meta-information. While this deals with implicit sensitive attributes (meaning attributes of an individual that are not contained in the dataset), other disclosure models deal with explicit sensitive attributes.\n",
        "\n",
        "**Attribute disclosure** may be achieved even without linking an individual to a specific item in a dataset. It protects sensitive attributes, which are attributes from the dataset with which individuals are not willing to be linked with. As such, they might be of interest to an attacker and, if disclosed, could cause harm to data subjects. As an example, linkage to a set of data entries allows inferring information if all items share a certain sensitive attribute value.\n",
        "\n",
        "**Identity disclosure (or re-identification)** means that an individual can be linked to a specific data entry. This is a serious type of attack, as it has legal consequences for data owners according to many laws and regulations worldwide. From the definition it also follows that an attacker can learn all sensitive information contained in the data entry about the individual.\n",
        "\n",
        "**Statistical Disclosure:** Aggregated or anonymized datasets can still contain statistical patterns that enable attackers to deduce sensitive information about individuals. Researchers have shown that by applying advanced statistical analysis techniques, individuals' private information, such as medical conditions or financial status, can be inferred from seemingly anonymized data.\n",
        "\n",
        "**Contextual Information:** Even when explicit identifiers are removed, contextual information present in the dataset can aid in re-identification. For example, a combination of location, occupation, and age may uniquely identify an individual within a specific region or profession, even if their name is not present.\n",
        "\n",
        "These examples illustrate that merely removing names and identifiable fields from datasets is not sufficient to ensure data privacy. It is essential to adopt more comprehensive approaches, such as data anonymization techniques, encryption, differential privacy, and rigorous access controls, to safeguard individuals' privacy and protect against privacy attacks.\n",
        "\n",
        "Data privacy regulations, such as the **General Data Protection Regulation (GDPR)** in Europe and the **California Consumer Privacy Act (CCPA)** in the United States, emphasize the need for organizations to implement robust privacy measures and obtain informed consent from individuals when handling their personal data. These regulations aim to strike a balance between data utility and privacy protection, encouraging organizations to implement privacy-enhancing practices to mitigate the risks associated with data privacy breaches.\n",
        "\n",
        "\n"
      ],
      "metadata": {
        "id": "_wmnTO8hocVR"
      }
    },
    {
      "cell_type": "markdown",
      "source": [
        "##  Popular types of privacy attacks.\n",
        "\n",
        "\n",
        "* **Membership Inference Attack (MIA):** This attack aims to determine whether a particular individual's record is present in a dataset without revealing the specific information of the individual. This technique poses a significant threat to privacy, especially in scenarios where sensitive information is stored or shared.\n",
        "\n",
        "* **Attribute Inference Attack:** This attack aims to infer sensitive attributes or characteristics of individuals based on available non-sensitive attributes. For example, inferring a person's salary based on their occupation, education level, and geographic location.\n",
        "\n",
        "* **Reconstruction Attack:** Reconstruction attacks attempt to reconstruct the original data or sensitive information from aggregated or anonymized data. These attacks exploit vulnerabilities in data anonymization techniques and re-identify individuals based on unique combinations of attributes.\n",
        "\n",
        "* **Linkage Attack:** Linkage attacks involve linking multiple datasets or combining publicly available information to identify individuals in a dataset that is presumed to be anonymous. By matching common identifiers or attributes, an attacker can re-identify individuals and uncover sensitive information.\n",
        "\n",
        "* **Differential Privacy Attack:** Differential privacy attacks focus on bypassing or exploiting the privacy guarantees provided by differential privacy mechanisms. By analyzing multiple queries or responses, an attacker can gain insights into the sensitive data or individuals.\n",
        "\n",
        "It's important to note that these attacks highlight the need for robust privacy protection mechanisms and practices. Data anonymization, differential privacy techniques, secure data handling, and encryption play a crucial role in safeguarding individuals' privacy and mitigating the risks associated with these attacks."
      ],
      "metadata": {
        "id": "gVJWC79CA_Vk"
      }
    },
    {
      "cell_type": "markdown",
      "source": [
        "### Membership Inference Attack (MIA):\n",
        "\n",
        "These attacks are a type of privacy attack that aims to determine whether a particular individual's record is present in a dataset without revealing the specific information of the individual. This technique poses a significant threat to privacy, especially in scenarios where sensitive information is stored or shared. In this tutorial, we will explore the concept of membership attacks and demonstrate a Python example to understand how they can be implemented.\n",
        "\n",
        "**Understanding Membership Attacks:**\n",
        "\n",
        "A membership attack, also known as a membership inference attack, attempts to determine if a specific record or individual is present in a dataset by exploiting the statistical properties of the dataset. These attacks can be launched against machine learning models that have been trained on sensitive data or contain personal information. The primary goal is to extract sensitive information without directly accessing it, thereby compromising the privacy of individuals.\n",
        "\n",
        "**Example - Membership Attack on a Dataset:**\n",
        "\n",
        "Assuming we have a dataset.\n",
        "\n",
        "First, we create a machine learning model to represent the dataset.   \n",
        "Then we use the model to check if a record is available in the dataset by getting the label with some accuracy. if the acuracy is high then the record is included, if not then it is not.     \n",
        "\n"
      ],
      "metadata": {
        "id": "9BruRknAq-gl"
      }
    },
    {
      "cell_type": "code",
      "source": [
        "import pandas as pd\n",
        "from sklearn.ensemble import RandomForestClassifier\n",
        "from sklearn.model_selection import train_test_split\n",
        "from sklearn.metrics import accuracy_score\n",
        "import urllib\n",
        "import random\n",
        "\n",
        "\n",
        "def getData():\n",
        "    # Download the Adult dataset from UCI Machine Learning Repository\n",
        "    url = \"https://archive.ics.uci.edu/ml/machine-learning-databases/adult/adult.data\"\n",
        "    filename = \"adult.csv\"\n",
        "    urllib.request.urlretrieve(url, filename)\n",
        "\n",
        "    # Load the Adult dataset\n",
        "    data = pd.read_csv('adult.csv', header=None)\n",
        "\n",
        "    # Assign column names to the dataset\n",
        "    column_names = ['age', 'workclass', 'fnlwgt', 'education', 'education_num', 'marital_status',\n",
        "                    'occupation', 'relationship', 'race', 'sex', 'capital_gain', 'capital_loss',\n",
        "                    'hours_per_week', 'native_country', 'label']\n",
        "    data.columns = column_names\n",
        "\n",
        "    # Perform one-hot encoding for categorical features\n",
        "    categorical_features = ['workclass', 'education', 'marital_status', 'occupation',\n",
        "                            'relationship', 'race', 'sex', 'native_country']\n",
        "    data_encoded = pd.get_dummies(data, columns=categorical_features)\n",
        "    return data_encoded\n",
        "\n",
        "def getTrainedModel(data_encoded, test_size=0.2,random_state=42, modelID=\"RandomForestClassifier\"):\n",
        "\n",
        "    # Split the dataset into training and testing sets\n",
        "    train_data, test_data = train_test_split(data_encoded, test_size=test_size, random_state=random_state)\n",
        "\n",
        "    # Separate features and labels\n",
        "    train_features = train_data.drop('label', axis=1)\n",
        "    train_labels = train_data['label']\n",
        "    test_features = test_data.drop('label', axis=1)\n",
        "    test_labels = test_data['label']\n",
        "\n",
        "    # Train a machine learning model on the training set\n",
        "    model = None\n",
        "    if modelID==\"RandomForestClassifier\":\n",
        "       model = RandomForestClassifier(n_estimators=100, random_state=random_state)\n",
        "\n",
        "    model.fit(train_features, train_labels)\n",
        "\n",
        "    # Evaluate the model on the testing set\n",
        "    test_predictions = model.predict(test_features)\n",
        "    test_accuracy = accuracy_score(test_labels, test_predictions)\n",
        "\n",
        "    return model, test_features, test_labels, test_accuracy\n",
        "\n",
        "def getSampleAttackData(target_data, target_labels, isMember=1):\n",
        "    if isMember:\n",
        "        attack_data = target_data.sample(n=1)\n",
        "        attack_labels = target_labels.sample(n=1)\n",
        "    else:\n",
        "        # Generate random data of the same type\n",
        "        attack_data =pd.DataFrame([[random.random() for x in range(len(target_data.columns))]], columns=  list(target_data.columns))\n",
        "        attack_labels = pd.Series([random.choice(['<=50K','>50K'])])\n",
        "\n",
        "    return attack_data, attack_labels\n",
        "\n",
        "# Perform membership inference attack\n",
        "def checkMembership(model, attack_data, attack_labels ):\n",
        "\n",
        "    # Make predictions on the attack data\n",
        "    attack_predictions = model.predict(attack_data)\n",
        "    attack_predictions= attack_predictions[0]\n",
        "    attack_labels=list(attack_labels)[0]\n",
        "\n",
        "    # # Calculate the accuracy of the membership inference attack\n",
        "    attack_result = (attack_predictions == attack_labels)\n",
        "    return  attack_result\n",
        "\n",
        "print(\"=============  Membership Attack Example ================\")\n",
        "random_state = 42\n",
        "\n",
        "# Get sample data, we are using USA adult dataset (32561 rows and 109 attributes)\n",
        "data_encoded = getData()\n",
        "\n",
        "\n",
        "# get trained model\n",
        "model, test_features, test_labels, test_accuracy = getTrainedModel(data_encoded, test_size=0.01,random_state=42, modelID=\"RandomForestClassifier\")\n",
        "print(f'Test Accuracy: {test_accuracy}')\n",
        "\n",
        "# run multiple times\n",
        "results = []\n",
        "numIterations = 100\n",
        "for i in range(numIterations):\n",
        "    # create sample data to attack (we either generate a record for a member person or non member person)\n",
        "    isMember     = random.randint(0,1)\n",
        "    attack_data, attack_labels =  getSampleAttackData(test_features, test_labels, isMember=isMember)\n",
        "    # Perform the membership inference attack on the trained model using the sample attack data\n",
        "    results.append( 1 if checkMembership(model, attack_data, attack_labels)==isMember else 0)\n",
        "\n",
        "acc = results.count(1)/numIterations\n",
        "print(f'Membership Inference Attack Result: {acc}')"
      ],
      "metadata": {
        "colab": {
          "base_uri": "https://localhost:8080/"
        },
        "id": "P8_i2PfPocne",
        "outputId": "e644d4e6-480f-4252-c060-2410600a0a54"
      },
      "execution_count": 19,
      "outputs": [
        {
          "output_type": "stream",
          "name": "stdout",
          "text": [
            "=============  Membership Attack Example ================\n",
            "Test Accuracy: 0.8895705521472392\n",
            "Membership Inference Attack Result: 0.8\n"
          ]
        }
      ]
    },
    {
      "cell_type": "markdown",
      "source": [
        "**Another example: using aggregate statistics**\n",
        "We will show in this example that even when publishing aggregate data, e.g. sum or mean,  can leads to a successfull.\n",
        "\n",
        "This is a simple demonstration and doesn't provide an accurate or reliable measure of whether a person is in a dataset based on their income. It is a heuristic that relies on the premise that if adding a person's income brings the average closer to their income, then they are likely in the dataset. This premise has several issues:\n",
        "\n",
        "- The average income is only weakly related to whether any individual person's income is in the dataset. A single income is unlikely to change the average significantly unless the dataset is very small or the income is an extreme outlier.\n",
        "\n",
        "- The method doesn't account for the distribution of incomes. For example, if incomes are widely dispersed or have many outliers, then the average is less meaningful and the method will be less accurate.\n",
        "\n",
        "- The method doesn't account for the possibility of similar or identical incomes in the dataset. Two people can have the same income, but only one of them might be in the dataset."
      ],
      "metadata": {
        "id": "3sV9FBHoJBeP"
      }
    },
    {
      "cell_type": "code",
      "source": [
        "import pandas as pd\n",
        "import numpy as np\n",
        "\n",
        "# Create a random sample dataset\n",
        "np.random.seed(0)\n",
        "numberOfRecords = 100\n",
        "data = {'id': range(1, numberOfRecords+1),\n",
        "        'age': np.random.randint(20, 70, size=numberOfRecords),\n",
        "        'zipcode': np.random.randint(10000, 99999, size=numberOfRecords),\n",
        "        'income': np.random.randint(500, 10000, size=numberOfRecords)}\n",
        "\n",
        "# Converting dictionary to list of lists\n",
        "data_list = [['id', 'age', 'zipcode', 'income']] + [list(item) for item in list(zip(data['id'], data['age'], data['zipcode'], data['income']))]\n",
        "\n",
        "for x in data_list[:5]:\n",
        "    print(x)\n",
        "\n",
        "df = pd.DataFrame(data)\n",
        "\n",
        "# Compute the aggregate data for income\n",
        "count       = df['income'].count()\n",
        "sum_income  = df['income'].sum()\n",
        "mean_income = df['income'].mean()\n",
        "\n",
        "# Compute the aggregate data for age\n",
        "sum_age = df['age'].sum()\n",
        "mean_age = df['age'].mean()\n",
        "\n",
        "print(\"count       : \", count)\n",
        "print(\"sum_income  : \", sum_income)\n",
        "print(\"mean_income : \", mean_income)\n",
        "print(\"sum_age     : \", sum_age)\n",
        "print(\"mean_age    : \", mean_age )\n",
        "\n",
        "# Function to infer membership\n",
        "def infer_membership(target_income, target_age, count, sum_income, mean_income, sum_age, mean_age):\n",
        "    new_count = count + 1\n",
        "\n",
        "    # Income related\n",
        "    new_sum_income = sum_income + target_income\n",
        "    new_mean_income = new_sum_income / new_count\n",
        "\n",
        "    # Age related\n",
        "    new_sum_age = sum_age + target_age\n",
        "    new_mean_age = new_sum_age / new_count\n",
        "    # If adding the target income and age both make the new means closer to the targets,\n",
        "    # infer that the target might be in the dataset\n",
        "    if (abs(target_income - new_mean_income) < abs(target_income - mean_income)) and (abs(target_age - new_mean_age) < abs(target_age - mean_age)):\n",
        "        return True\n",
        "    else:\n",
        "        return False\n",
        "\n",
        "\n",
        "# Test the function\n",
        "\n",
        "id = 10\n",
        "personAge    = 35; personIncome = 50000\n",
        "if id >= 0:\n",
        "   personAge    = data_list[id][1]; personIncome = data_list[id][3]\n",
        "\n",
        "\n",
        "print(\" we are looking if a person with age= \",personAge,\" and income= \",personIncome,\" is in the datset!\")\n",
        "print(infer_membership(personIncome, personAge, count, sum_income, mean_income, sum_age, mean_age))  # Example output: True/False\n",
        "\n",
        "matching_rows = df[(df['income'] == personIncome) & (df['age'] == personAge)]\n",
        "matching_rows_approx = 0\n",
        "if matching_rows.empty:\n",
        "    df['income_diff'] = abs(df['income'] - personIncome)\n",
        "    df['age_diff'] = abs(df['age'] - personAge)\n",
        "    # Calculate a score based on the differences (you could also weight these differences if you want)\n",
        "    df['score'] = df['income_diff'] + df['age_diff']\n",
        "    # Return the row with the minimum score\n",
        "    matching_rows_approx =  list(df.loc[df['score'].idxmin()])[:-3]\n",
        "\n",
        "if not matching_rows_approx:\n",
        "   print(\"----- matchine persons -----\")\n",
        "   print(matching_rows)\n",
        "else:\n",
        "   print(\"----- matchine persons (approx) -----\")\n",
        "   print(matching_rows_approx)\n"
      ],
      "metadata": {
        "colab": {
          "base_uri": "https://localhost:8080/"
        },
        "id": "jEJJbu6XJBxM",
        "outputId": "8d6a2432-a82d-476b-df2d-e6cc2f33031e"
      },
      "execution_count": 48,
      "outputs": [
        {
          "output_type": "stream",
          "name": "stdout",
          "text": [
            "['id', 'age', 'zipcode', 'income']\n",
            "[1, 64, 90041, 6346]\n",
            "[2, 67, 81331, 4281]\n",
            "[3, 20, 60624, 3275]\n",
            "[4, 23, 99183, 3103]\n",
            "count       :  100\n",
            "sum_income  :  533067\n",
            "mean_income :  5330.67\n",
            "sum_age     :  4250\n",
            "mean_age    :  42.5\n",
            " we are looking if a person with age=  56  and income=  4551  is in the datset!\n",
            "True\n",
            "----- matchine persons -----\n",
            "   id  age  zipcode  income\n",
            "9  10   56    58682    4551\n"
          ]
        }
      ]
    },
    {
      "cell_type": "markdown",
      "source": [
        "    \n",
        "**Conclusion:**\n",
        "Membership attacks are a serious privacy concern, and understanding their concepts and implications is crucial for data privacy protection. By exploiting the statistical properties of a dataset, attackers can determine if specific records or individuals are part of the dataset. Organizations and data practitioners should be aware of the risks associated with membership attacks and employ appropriate privacy-preserving techniques to safeguard sensitive information.\n",
        "\n",
        "Remember that respecting privacy and following ethical guidelines should be a priority when dealing with sensitive data."
      ],
      "metadata": {
        "id": "49gXXnIzJCAr"
      }
    },
    {
      "cell_type": "markdown",
      "source": [
        " ###  Attribute inference attacks\n",
        "\n",
        "This attack aims to infer sensitive attributes or characteristics of individuals based on available non-sensitive attributes. For example, inferring a person's salary based on their occupation, education level, and geographic location.\n",
        "\n",
        "\n",
        "Let's use an example to illustrate. Suppose we have a dataset that has been anonymized by removing any directly identifying information (like names, social security numbers, etc.). The remaining dataset contains columns like 'age', 'income', 'education level', and a sensitive attribute 'has_cancer'.\n",
        "\n",
        "Now, let's say an attacker has some partial information about a person and wants to find out more about them from the dataset e.g. if the person has cancer. They might know the person's age and income rangea, and education level. Using this information, they could match these known characteristics with the corresponding rows in the dataset, potentially allowing them to find the target's row and learn more about them.\n",
        "\n",
        "Here is a basic Python script demonstrating a reconstruction attack:"
      ],
      "metadata": {
        "id": "0UnUYpiDwnJy"
      }
    },
    {
      "cell_type": "code",
      "source": [
        "import pandas as pd\n",
        "\n",
        "# Anonymized dataset\n",
        "data = {\n",
        "    'age': [25, 30, 35, 40, 45],\n",
        "    'income': [30000, 50000, 60000, 80000, 70000],\n",
        "    'education_level': ['Bachelor', 'PhD', 'Master', 'Bachelor', 'Master'],\n",
        "    'number_of_children': [0, 2, 1, 3, 2],\n",
        "    'has_cancer': [0, 0, 1, 0, 1]\n",
        "}\n",
        "\n",
        "df = pd.DataFrame(data)\n",
        "\n",
        "# Partial information about a person\n",
        "#known_info:\n",
        "ageRange         = [31,35]\n",
        "incomeRange      = [40000,80000]\n",
        "educationDegree  ='Master'\n",
        "\n",
        "# Perform the reconstruction attack\n",
        "attack = df[ (df['age'] >= ageRange[0]) & (df['age'] <= ageRange[1]) &\n",
        "            (df['income'] >= incomeRange[0]) & (df['income'] <= incomeRange[1])  &\n",
        "            (df['education_level'] == educationDegree)]\n",
        "\n",
        "print(\"let's see if the person we know has cancer\")\n",
        "print(attack)\n"
      ],
      "metadata": {
        "colab": {
          "base_uri": "https://localhost:8080/"
        },
        "id": "Qad8d455w8y4",
        "outputId": "c93d8590-cc17-4325-8a5e-d91cb1df3fd4"
      },
      "execution_count": 57,
      "outputs": [
        {
          "output_type": "stream",
          "name": "stdout",
          "text": [
            "Linking information from the two databases:\n",
            "   age  income education_level  has_cancer\n",
            "2   35   60000          Master           1\n"
          ]
        }
      ]
    },
    {
      "cell_type": "markdown",
      "source": [
        " ### Re-Construction Attack:\n",
        "\n",
        "\n",
        "\n",
        "The attack demonstrated above could also be classified as Re-Construction Attack.\n",
        "\n",
        "It's worth noting that the line between reconstruction attacks and attribute inference attacks can sometimes be blurred, as they both involve using known information to infer or reconstruct unknown information. The key distinction is that a reconstruction attack typically aims to reconstruct the entire original dataset, while an attribute inference attack focuses on inferring specific attributes for particular individuals.\n",
        "\n",
        "Reconstruction attacks are a type of data privacy violation where an attacker uses aggregate data or statistical summaries to re-identify individual records. This could potentially violate the privacy of individuals in the dataset, even if the data was anonymized.\n",
        "\n",
        "In the above example, one can reconstruct all datset records by running multiple queries with known information.\n",
        "\n"
      ],
      "metadata": {
        "id": "vPEDnE9aromA"
      }
    },
    {
      "cell_type": "markdown",
      "source": [
        "### Linkage attack:\n",
        "\n",
        "linkage attacks try to reveale sensitive information by linking different datasets based on a shared attribute.\n",
        "\n",
        "Suppose we have two anonymized datasets. One dataset contains public information (like 'age', 'income', and 'education level'), and another dataset contains private information (like 'health status') indexed by an anonymized but common user identifier.\n",
        "\n",
        "For demonstration purposes, let's say the public dataset was released by a marketing firm and the private dataset was leaked from a healthcare provider. Although the healthcare provider's dataset doesn't contain directly identifiable personal information, an attacker could still link the records in this dataset to specific individuals if they can match the user identifier with the corresponding identifier in the public dataset.\n",
        "\n",
        "Here's how an attacker could perform a linkage attack in Python:"
      ],
      "metadata": {
        "id": "Z5Z6F26Fyrz5"
      }
    },
    {
      "cell_type": "code",
      "source": [
        "import pandas as pd\n",
        "\n",
        "# Anonymized dataset 1\n",
        "data1 = {\n",
        "    'age': [25, 30, 35, 40, 45],\n",
        "    'income': [30000, 50000, 60000, 80000, 70000],\n",
        "    'education_level': ['Bachelor', 'PhD', 'Master', 'Bachelor', 'Master'],\n",
        "    'number_of_children': [0, 2, 1, 3, 2]\n",
        "}\n",
        "\n",
        "df1 = pd.DataFrame(data1)\n",
        "\n",
        "# Anonymized dataset 2\n",
        "data2 = {\n",
        "    'age': [25, 30, 35, 40, 45],\n",
        "    'income': [30000, 50000, 60000, 80000, 70000],\n",
        "    'education_level': ['Bachelor', 'PhD', 'Master', 'Bachelor', 'Master'],\n",
        "    'has_cancer': [0, 0, 1, 0, 1]\n",
        "}\n",
        "\n",
        "df2 = pd.DataFrame(data2)\n",
        "\n",
        "# Partial information about a person\n",
        "ageRange = [31, 35]\n",
        "incomeRange = [40000, 80000]\n",
        "educationDegree = 'Master'\n",
        "\n",
        "# Perform the linkage attack\n",
        "attack1 = df1[ (df1['age'] >= ageRange[0]) & (df1['age'] <= ageRange[1]) &\n",
        "            (df1['income'] >= incomeRange[0]) & (df1['income'] <= incomeRange[1])  &\n",
        "            (df1['education_level'] == educationDegree)]\n",
        "\n",
        "print(\"Linking information from the two databases:\")\n",
        "for index, row in attack1.iterrows():\n",
        "    attack2 = df2[ (df2['age'] == row['age']) &\n",
        "                   (df2['income'] == row['income']) &\n",
        "                   (df2['education_level'] == row['education_level']) ]\n",
        "    print(attack2)\n"
      ],
      "metadata": {
        "colab": {
          "base_uri": "https://localhost:8080/"
        },
        "id": "AT8N6mzWy8qm",
        "outputId": "aba6a6a2-8708-463d-c1fa-6b997677b3f6"
      },
      "execution_count": 58,
      "outputs": [
        {
          "output_type": "stream",
          "name": "stdout",
          "text": [
            "Linking information from the two databases:\n",
            "   age  income education_level  has_cancer\n",
            "2   35   60000          Master           1\n"
          ]
        }
      ]
    },
    {
      "cell_type": "markdown",
      "source": [
        "### Differential Privacy Attack:\n",
        "\n",
        "Differential Privacy (DP) is a method that is designed to provide privacy guarantees for individuals whose data is being used for statistical analysis. However, as with any security or privacy mechanism, it's not invincible.\n",
        "\n",
        "A potential weakness in differential privacy mechanisms comes in the form of repeated queries. If an attacker has the ability to make multiple, slightly different queries to the dataset, they could potentially learn more than what a single query would reveal. This is sometimes called a \"composition attack.\"\n",
        "\n",
        "Here's a simplified Python example that illustrates the issue:\n",
        "\n",
        "Differential privacy is a method that is designed to provide privacy guarantees for individuals whose data is being used for statistical analysis. However, as with any security or privacy mechanism, it's not invincible.\n",
        "\n",
        "A potential weakness in differential privacy mechanisms comes in the form of repeated queries. If an attacker has the ability to make multiple, slightly different queries to the dataset, they could potentially learn more than what a single query would reveal. This is sometimes called a \"composition attack.\"\n",
        "\n",
        "Here's a simplified Python example that illustrates the issue.\n",
        "In this example, the attacker knows that Alice is in the database and knows her exact age. By querying the database multiple times and averaging the results, the attacker can estimate the average age of all the people in the database. If the database is supposed to be private, this represents an attack because the attacker has gained information about the people in the database (their average age) that they should not have.\n",
        "\n",
        "The attacker queries the database twice: once with Alice's data and once without. By comparing the average results of these two sets of queries, the attacker can infer the influence Alice's data has on the overall database. If there is a significant difference, the attacker could infer that Alice's age is above or below the average age of the people in the database. This can be seen as a privacy leak.\n",
        "\n",
        "Assuming output:\n",
        "\n",
        "       alice_age          :  24\n",
        "       alice_age influence:  -0.2537783890259462\n",
        "\n",
        "The negative influence value of -0.2537783890259462 indicates that the average age of the entire dataset is slightly lower when Alice is included. This implies that Alice's age is less than the average age of the overall population in the dataset.\n",
        "\n",
        "While this might seem like a minor detail, it can be a significant privacy concern. The attacker was able to infer that Alice is younger than the average person in the dataset without directly accessing Alice's data. If the dataset were sufficiently large and the attack were more sophisticated, this kind of inference could potentially reveal much more about Alice or any other individual in the dataset."
      ],
      "metadata": {
        "id": "iPcft4im1qwK"
      }
    },
    {
      "cell_type": "code",
      "source": [
        "import numpy as np\n",
        "import pandas as pd\n",
        "from sklearn.preprocessing import LabelEncoder\n",
        "\n",
        "# Set a seed for reproducibility\n",
        "np.random.seed(0)\n",
        "\n",
        "# Generate a sample dataset\n",
        "N = 1000  # Number of people\n",
        "labels = ['Alice', 'Bob', 'Charlie', 'David', 'Eve']\n",
        "\n",
        "names = np.random.choice(labels, N)\n",
        "ages = np.random.randint(20, 60, N)\n",
        "\n",
        "df = pd.DataFrame({'Name': names, 'Age': ages})\n",
        "print(\"----data \")\n",
        "print(df)\n",
        "\n",
        "# Encode the 'Name' column\n",
        "encoder = LabelEncoder()\n",
        "df['Name'] = encoder.fit_transform(df['Name'])\n",
        "print(\"----anonymized data \")\n",
        "print(df)\n",
        "\n",
        "def query(db, noise=0.2):\n",
        "    \"\"\"Generate a query with differential privacy.\"\"\"\n",
        "    true_result = np.mean(db)\n",
        "    privacy_result = true_result + noise * np.random.randn()\n",
        "    return privacy_result\n",
        "\n",
        "# Attack begins\n",
        "# Suppose the attacker knows Alice's age and that Alice is in the database\n",
        "alice_age = df[df['Name'] == encoder.transform(['Alice'])[0]]['Age'].values[0]\n",
        "\n",
        "# The attacker queries the database multiple times\n",
        "n_queries = 1000\n",
        "means_with_alice = [query(df['Age']) for _ in range(n_queries)]\n",
        "print(\"means_with_alice age          : \", means_with_alice)\n",
        "\n",
        "# The attacker then removes Alice from the database\n",
        "df_without_alice = df[df['Name'] != encoder.transform(['Alice'])[0]]\n",
        "\n",
        "# The attacker queries the database without Alice\n",
        "means_without_alice = [query(df_without_alice['Age']) for _ in range(n_queries)]\n",
        "print(\"means_without_alice age          : \", means_without_alice)\n",
        "\n",
        "# The attacker compares the averages of the queries\n",
        "average_with_alice = np.mean(means_with_alice)\n",
        "average_without_alice = np.mean(means_without_alice)\n",
        "\n",
        "# If there is a significant difference between the averages, the attacker can infer that Alice has an influence on the average age\n",
        "influence = average_with_alice - average_without_alice\n",
        "\n",
        "print(\"alice_age          : \", alice_age)\n",
        "print(\"alice_age influence: \", influence)\n"
      ],
      "metadata": {
        "colab": {
          "base_uri": "https://localhost:8080/"
        },
        "id": "7_6MVEOS1sei",
        "outputId": "9149072d-0f54-41b9-ca70-5070f3e38f42"
      },
      "execution_count": 74,
      "outputs": [
        {
          "output_type": "stream",
          "name": "stdout",
          "text": [
            "----data \n",
            "      Name  Age\n",
            "0      Eve   30\n",
            "1    Alice   24\n",
            "2    David   37\n",
            "3    David   23\n",
            "4    David   57\n",
            "..     ...  ...\n",
            "995    Eve   31\n",
            "996  David   56\n",
            "997    Bob   38\n",
            "998    Bob   31\n",
            "999  David   54\n",
            "\n",
            "[1000 rows x 2 columns]\n",
            "----anonymized data \n",
            "     Name  Age\n",
            "0       4   30\n",
            "1       0   24\n",
            "2       3   37\n",
            "3       3   23\n",
            "4       3   57\n",
            "..    ...  ...\n",
            "995     4   31\n",
            "996     3   56\n",
            "997     1   38\n",
            "998     1   31\n",
            "999     3   54\n",
            "\n",
            "[1000 rows x 2 columns]\n",
            "means_with_alice age          :  [39.91284541341598, 39.42953947328916, 40.11187240135545, 39.575186914089606, 39.6628181087247, 39.56017850251259, 40.19970231518215, 39.85221539519736, 39.558684073853264, 39.56519032865888, 39.7287949727254, 39.69488516830686, 39.74447513496242, 39.47587734489258, 39.73250975644443, 39.80681251375395, 40.086217193034344, 40.065351081560266, 39.76067783050964, 39.70758631737551, 39.8897787189251, 39.916563766051055, 39.71285181552216, 39.51207819378116, 39.42012771032558, 39.45234696644339, 39.53870326075909, 39.890526821745354, 39.80699975235565, 39.961537556115694, 39.58412842104675, 39.88974405160786, 39.87704363843008, 39.84326992869079, 39.65177501976933, 39.751110533875526, 39.927423009901275, 39.39895700749807, 39.76476124434574, 39.6395542378677, 39.28129017087291, 39.94549136449554, 39.875940793838666, 39.75461777616422, 39.54623632048118, 39.72369174393987, 39.73298671621802, 39.839943570244515, 39.85533222801271, 39.93825087994147, 39.79434033162629, 39.73297357093204, 39.98572560720492, 39.89114170773975, 39.75524106234874, 39.689366605098456, 39.86938342638051, 39.65288393454534, 39.71244244115611, 39.848729109554384, 39.86096448941307, 39.79288096328316, 39.73618195964599, 39.559677684220325, 39.86895892988236, 39.98117213136699, 39.845884771850095, 39.769955846388974, 39.987737544054404, 39.8221992702319, 40.2662132517829, 39.692023018626706, 39.62382672908722, 39.76237450563087, 39.48882142271292, 39.36787152391392, 39.81035516245099, 39.429889114727914, 40.12046375526637, 39.597248124878874, 39.78320515207678, 39.59370075649946, 40.00287878816276, 39.614759479273836, 39.63892399125791, 39.67323404641205, 39.74038506427243, 39.546724524063514, 39.45287527876303, 39.807031345093826, 40.09236222072677, 39.82446492697033, 39.80523610860385, 39.8029522969262, 39.861326020514994, 39.70997370990864, 39.63803048987072, 39.930835421764286, 39.42525057742236, 40.068418465334446, 39.69928920148871, 39.55164570761727, 39.75938377885801, 39.986647838076166, 39.42073511985244, 39.99230452502106, 39.7971146948009, 39.492513693025444, 39.85916711090386, 39.756186764900406, 39.7320603292179, 39.76096089032782, 39.671018285345454, 39.511923234405955, 39.35364000833145, 39.63887070647155, 39.38866043499343, 39.60507279243749, 39.628686782920965, 39.74926840185783, 39.5201372440073, 39.80140640198391, 39.750103113454024, 39.76623997293886, 39.92281880948448, 39.58611878137053, 39.79640371730307, 39.60864480138324, 39.325299888611006, 40.082435044362654, 40.29440793774147, 40.2098819762137, 39.68267251007247, 39.295598060012765, 40.11611988750075, 39.66574094232378, 39.27941085643291, 39.765279760096156, 39.85931722142121, 39.48152824493412, 39.91249118934045, 39.51359737541509, 39.87758378605588, 39.97900038644485, 40.06041683608414, 39.58852086992293, 39.54925233232532, 39.53022199897717, 39.456753233047344, 39.36967980930536, 39.31670722950506, 39.93413367236953, 39.816564907582816, 39.939715525276526, 39.697099728334535, 39.885071639754955, 39.82828911287929, 40.03600789193482, 39.87128641246456, 39.97902504257672, 39.852436728663264, 39.73468787499098, 39.79694644761267, 39.78889112881977, 39.88678523138459, 39.472124949205366, 40.188558609221865, 39.57002060918204, 40.03203677020476, 39.8293188447853, 40.15487111459454, 40.097225991389685, 39.46778194101552, 39.83269848296241, 40.18957779987868, 39.62219107123915, 39.57449139847497, 39.607833434374264, 39.42125781630822, 39.67643572624501, 39.57201742389541, 39.631161024946, 39.74757097781588, 39.555739233504276, 39.70222459669114, 39.96803780918315, 39.855410871617586, 39.67396414762557, 39.745281205678666, 39.90867295388508, 39.64335905539318, 39.77893088320454, 39.52020755582353, 39.4228620014181, 39.983110697656336, 39.74676921158378, 39.66794379869132, 39.53242741887406, 40.235581565157155, 39.798328643118566, 39.83111966440679, 39.58336166046229, 39.694682700198065, 39.8113409706935, 39.79555559715247, 39.74728002589969, 39.598307803693, 39.79427105098137, 39.75194623824097, 40.0535921672141, 39.75084994973111, 39.54200510072323, 39.64706926390072, 39.80695404990293, 39.60976673445193, 39.69713956088152, 39.69243072944798, 39.4404122125372, 39.873789417325135, 39.94758716479295, 39.78476115599707, 39.75051285248435, 39.91307700574278, 39.72812639705058, 39.57668575298637, 39.37344723217915, 40.051518454666464, 39.41564135456333, 39.83404591743146, 39.84708706955731, 39.85386500915575, 39.945328356164985, 39.725083212979634, 39.66023548173478, 39.60879872281232, 39.68159940679524, 39.60541045466687, 39.67550334024121, 39.734315299504324, 39.49794618663591, 39.88238073111242, 39.854621440357995, 39.89395796362125, 39.83555305837751, 39.53278363157581, 39.55561115330425, 39.536415225826296, 39.59598515588179, 39.71953200861445, 39.598618066675385, 39.626062605310885, 39.94303519253201, 39.88092415057441, 39.88418811194206, 39.738128703906185, 39.751743907288976, 39.88603611815972, 39.77132657914374, 39.639365175332784, 39.66774908373206, 39.895037634119355, 39.69871216988817, 39.68971401547932, 40.045292852534416, 39.99064633684762, 39.938686133072316, 40.109004521081374, 39.841600149088904, 40.02846885288939, 39.95601877703255, 39.79493575618537, 39.66309060799704, 39.46781498727393, 39.73500312318888, 39.93628875351173, 39.44079699275993, 39.80047614098113, 39.89779347653977, 39.27860703542089, 39.733983843048165, 39.67306982997476, 39.64806835395493, 39.655633058137425, 39.86387286265985, 39.859343006785, 39.70434536945313, 40.2483928005452, 39.63485897628997, 39.69234478573865, 39.789625755932704, 39.55747490322916, 39.75859465680731, 40.20004630815566, 39.9501829554233, 39.31962848972221, 39.88677823949437, 39.65091617744235, 39.911546519404666, 39.68264795734174, 40.05218517420674, 39.856561888691175, 39.86196997090241, 39.85350092696544, 39.92877881547924, 39.89665718174408, 39.88469059748558, 39.6204339460534, 40.028457057420525, 39.85173220693673, 39.64821993687959, 39.89247556398528, 39.71427599287084, 39.79410100206775, 40.18732874075056, 40.00423025264713, 40.224825811766515, 39.8229247797321, 39.5737899626997, 39.819414537955595, 39.670402534569966, 39.70710957660797, 39.70643093366077, 39.364864792291556, 39.93853033792721, 39.706395571044396, 39.861800985596226, 39.851192457200526, 39.65457768703199, 39.64150492096998, 39.60061881402567, 39.98062731919984, 39.37954604378551, 39.44585476720464, 39.604969255877286, 40.34843373304936, 39.494893831848536, 39.75760725816998, 39.78138800273407, 39.86267128519856, 39.60203652719111, 39.946932776456954, 39.52526424496775, 39.60819912343806, 39.68727834308988, 39.99792812836507, 39.863360020422284, 40.08313458030237, 39.54938254744194, 40.097100900356544, 39.96247312593501, 39.59139606443703, 39.225851139926874, 39.812550162563745, 39.99442667998744, 40.34198947876984, 39.89390970450989, 39.85968871719243, 39.9031013598024, 39.879435067919296, 39.61538495352189, 39.482598688654, 39.869052568621676, 39.42057172315378, 39.762686828213845, 39.550858341169906, 39.95801661238293, 39.93383580742174, 39.74143976305787, 39.64250567807931, 39.81771297705902, 39.84331803852535, 39.73613349659084, 39.5422753725418, 39.65635008566368, 39.786273875987426, 39.47230990105489, 39.47369196938221, 39.6384170110033, 39.925598910289764, 39.61746820930464, 39.70535658904178, 39.76659551507349, 39.66827504521447, 39.8184264007747, 39.711888924960746, 39.7090940635295, 39.744536220413615, 39.72016829387662, 39.54634425288476, 39.67077327224474, 39.74671130535067, 39.963660746777805, 39.83455929344648, 39.31965227956778, 39.64993647998701, 39.83044877477506, 39.791696710208456, 39.95140646534746, 40.01329289018435, 40.0956844754883, 39.6185250232081, 39.63296816790369, 39.3039182164042, 39.67377840148974, 39.83649736966635, 39.444841643892914, 39.77905703070855, 39.968720031252055, 39.79684036911912, 39.84395878553817, 39.73422415570879, 39.75478109814794, 39.386458373608946, 39.95727643133836, 39.67568348154476, 40.070319848047475, 39.5276304467096, 39.69002414290617, 40.015311041949445, 39.50697133881136, 40.39014824050691, 40.03973727606965, 39.48003785668409, 39.91681151803434, 39.93732511792135, 40.01198413558502, 39.60919935020826, 39.702207699303116, 39.69262692226536, 39.7176313873761, 39.9019193996752, 39.7172131648275, 40.08807341077935, 39.84989192619684, 40.00402801133628, 39.74841259493959, 39.73301150061149, 39.79784009544593, 39.68312776198053, 39.52786073451842, 39.76821498042172, 39.81353278524019, 39.72185833926788, 39.34970352193545, 39.65432841573832, 39.416474903491576, 40.025053031857595, 39.96695291453876, 39.45104769795649, 39.45530280249958, 39.833896381520965, 39.72582966593895, 39.91612898840846, 39.56819836848222, 39.720466963655795, 39.48214199074408, 39.505517783088614, 39.82245777231488, 40.0759074006842, 39.808769998450344, 39.97078965031913, 40.03467920144871, 39.80664493390666, 39.53938082118848, 39.76611665450098, 39.527300394679806, 39.80968514269787, 39.93106679888846, 39.79552772157169, 39.87836993873283, 39.38939627808503, 39.26708233072625, 39.5706093399517, 39.41723038162688, 39.72595147821202, 39.671421155253796, 39.71128357375703, 39.703603597569604, 39.71485178532774, 40.0360602395637, 39.646309923537586, 39.92733991362303, 39.96648453979394, 39.66440575958349, 39.86175708409215, 39.51717580017868, 40.035270468729024, 39.776208658091015, 39.82670155455489, 40.03882361236275, 40.059825834384306, 39.85208150834421, 39.964499665079344, 40.15813888071036, 39.862193852432185, 39.74239957627776, 39.67714268769014, 39.45116043605849, 40.09281205822684, 39.414784560030625, 39.53014257129256, 39.884109249457794, 39.90263437890207, 39.76648921368587, 39.662554818485326, 39.688090661988625, 39.82559664654516, 39.39725848173502, 39.31403568150721, 39.40107269847153, 39.87214374663899, 39.79081387397374, 39.63874135055509, 39.52671312426001, 39.53013375265326, 39.67247951106528, 39.81093440366939, 39.721833385346024, 39.629386185057136, 39.9732807262633, 39.82178730327092, 39.939095858500814, 39.37079834977212, 39.328665305314104, 39.95301215355881, 39.86014919072808, 39.60088147604623, 39.28684932714238, 39.96284609131668, 40.09931542037816, 39.877554066768624, 39.83123786441705, 39.856047835128265, 39.75327163800997, 39.68151229708446, 39.71193783963488, 39.82478594421704, 39.722619946077366, 39.602032548383804, 39.865748368734245, 39.71665849643565, 40.101204509082024, 39.87526558602887, 39.92354714096257, 39.367904481482924, 39.99806566804484, 39.884488520988384, 39.60712312728639, 39.84992414758987, 39.76908511851395, 39.669154153108686, 40.10193945338194, 39.5430348418443, 39.62843645172554, 39.81939973690948, 39.871086549315095, 39.57396368118446, 39.40817838058063, 39.761708325347314, 39.83831576621375, 39.51193815698365, 39.924596059971535, 39.581899444638886, 39.494515646085034, 39.483040695659156, 39.660681474951026, 39.523671551730004, 39.63039384996947, 39.912952427551375, 39.58191165744906, 39.89951527142229, 39.53678976502269, 39.52787184904925, 39.79959223304183, 39.85702498497557, 39.82821313253177, 39.53540600697519, 39.94832095201851, 39.72203979293871, 39.65476547243223, 39.762327167714794, 39.75322533415298, 39.76480281221392, 39.54353219949536, 39.62030818010152, 39.736186767968576, 39.916305065254875, 39.813087448788465, 40.06666898666148, 39.21229960542617, 39.720844457015346, 39.72415838273595, 40.0423932327944, 39.900503138568034, 39.74204319291747, 39.372989639623796, 39.67045635298291, 39.6947188176002, 39.84007655114895, 39.61186774089329, 39.54782223404031, 39.50067824509527, 39.779258758022344, 39.8163367587597, 39.70403898936308, 40.011769328783814, 39.573282901272215, 39.66194657480705, 40.04094545346227, 39.95072287553116, 39.80871995495484, 40.07775712031547, 40.06525081873438, 39.688633021877685, 39.57253510572537, 39.78903376695417, 39.89335956265681, 39.896208273823525, 39.78109145136922, 39.81311099965662, 39.680784418026484, 39.96187199003714, 39.84380272775807, 39.72097595222319, 39.70709181169906, 40.06533836888269, 39.669790747701, 39.741424475911785, 39.71002366195373, 39.432439858264964, 39.74596294516534, 39.538036488808686, 39.84655495783218, 39.471454342552484, 39.776217037380434, 39.93658201681281, 39.47481759896531, 39.91860141913767, 39.740958559888625, 39.35075593047289, 40.04337566170142, 40.187509692576775, 39.612126688376534, 39.65429613307589, 39.991289058495695, 39.627971978519426, 39.498283860594725, 39.816949411406945, 39.80263337500188, 39.70363970190938, 39.95491029495167, 39.68080376531337, 39.736102821318134, 39.76616992118804, 39.94460526847595, 39.73542234558855, 39.63969721572159, 39.60991633926129, 39.51959878215344, 39.72560612394294, 39.43978693684602, 39.86524225607772, 39.871695970562804, 39.808560368358876, 39.727337320276206, 39.71108733210484, 39.80044290064266, 39.73081159550382, 39.99702808946544, 39.698168649730974, 39.69101309828985, 39.3855135113341, 39.84754096255462, 39.86978411774989, 39.585362613975065, 39.57634135538954, 39.88427480374809, 39.75863419377568, 39.803445041009255, 39.65855795228265, 39.87778927852936, 39.83430054000637, 39.849776716844545, 39.70129335432437, 39.773483304188005, 39.83506982948798, 39.504825731577796, 40.02015553924222, 39.8656200364935, 40.036280996693264, 39.64236473432902, 39.826159935898794, 39.860903067720216, 39.90904517312393, 39.41082664063978, 39.806515836541664, 39.73598658520019, 39.55695551896243, 39.82677102458037, 39.62927399655906, 39.565504862939655, 39.657991274652346, 39.86232090099362, 39.57087502252911, 39.543787652479175, 40.24419701523635, 39.771939373971975, 39.530242041604936, 39.75712131019942, 39.65737676215053, 39.711551483631, 39.48668000980938, 39.915364833950996, 39.74331863271516, 39.55826681887182, 39.70516479969331, 39.39885891472013, 39.96936746785715, 39.678502739998905, 39.8700087303463, 39.527218920389664, 39.64365171577214, 39.89359230203864, 39.46270331614291, 40.073271157615025, 39.663473894445104, 39.46214694369282, 39.93597398626752, 39.95173939491308, 39.61969177304628, 39.528265944293864, 39.761535002888195, 39.53171981403452, 39.79361273570744, 39.884254084381574, 39.80330484727932, 39.756934065633345, 39.55777441624826, 39.694012445731005, 39.38487626950152, 39.563176875303746, 39.589706893566145, 39.680085407746, 39.47318087389433, 39.6616557207201, 39.81503487022807, 39.633023320577465, 40.20759813385469, 39.51750879758897, 40.08485487340958, 39.58902127828557, 39.966512706216626, 40.114822243125815, 39.96196328411003, 39.40930946615123, 40.33204965441757, 39.84578104645542, 39.56135620318587, 39.95691988985719, 40.17245914374254, 39.56976664018889, 39.425174652928625, 40.124359843493394, 39.58122481442148, 39.556670915277344, 39.968027162054454, 39.43452564998151, 40.01604197889793, 39.57420127122674, 39.737029286587244, 39.92397538837065, 39.77891624838638, 39.71722080809794, 39.8136826275717, 39.612828120617635, 39.92974202300965, 39.73611737270221, 39.864680080993566, 39.54575673627944, 39.485586927851195, 39.81471910575987, 39.44559646968846, 39.88225040781452, 39.54194691160897, 39.49734396454228, 39.723378011237614, 39.73932997313978, 39.76052674528757, 39.5264073866929, 39.32396244014342, 40.10818632285597, 39.42300433555971, 39.692014254819874, 39.321370683125295, 39.705912056231405, 40.03039114146855, 39.91341332738298, 39.520870356033164, 39.61867442765932, 39.65129874278444, 39.49863715121865, 39.542613196730976, 39.92221144967022, 39.89820362137197, 39.792245064878095, 39.6705390985843, 39.57620132897255, 39.59450853880125, 39.88257602211561, 39.81983724158184, 39.866399028811365, 39.77313569514611, 39.92245027112906, 39.826705617664594, 39.945911624527014, 39.75384847910881, 39.68988822647871, 39.563067233244084, 39.5894074446677, 39.65078708719264, 39.70537926539061, 39.51215825530089, 39.91429488089936, 39.71899168146143, 39.760345566376316, 39.949034793514485, 39.80838428686646, 39.67595528450086, 39.73672877143366, 39.675735481502564, 40.01007556257947, 39.48123998217666, 39.33311726662984, 39.883790394910186, 39.73531798737343, 39.79584615431425, 40.20438513740208, 39.68818258385885, 40.113662050011655, 39.88224967869934, 39.78617557431749, 39.87119713892295, 39.5460537989551, 39.77805522918781, 39.71918068671287, 39.649409113563905, 39.7512094255314, 39.82195813057294, 39.7184659531194, 39.94325684832288, 39.41060367087544, 39.701902644935274, 39.502540717893794, 40.051666074577675, 39.50001275203015, 39.46790300211546, 39.497245252974196, 39.30093204233512, 39.84235424954553, 39.55514272638937, 39.84215103002181, 39.886969831841554, 39.50464593374937, 39.68558979810252, 39.70659617596326, 39.76023748329773, 39.87310920418002, 39.743563013127655, 40.00254322776705, 39.57805514039996, 39.97810004633539, 40.149362961925625, 40.40540338976234, 39.35845076366145, 39.53926976742359, 39.68639934384254, 39.856989293288166, 39.652192595790886, 39.6933230123143, 39.86007774101782, 39.500146741727384, 39.98747194903441, 39.81617902509402, 39.747076810326, 39.780839288177006, 39.53818791291055, 39.84490466330708, 39.392305679977746, 39.819424327821565, 39.90594976451034, 39.51520848571268, 39.74948621811034, 39.6813403073331, 39.60755624727185, 39.959368313358745, 39.645642268031814, 40.44409470537468, 39.86412597925144, 39.98505860094715, 39.80430746449093, 39.56141243479432, 39.53875913221396, 39.58986193161217, 39.81460978163212, 39.46959585335712, 39.883938948661, 39.687077656582545, 39.891593750691094, 39.78002356288155, 39.54815817374041, 39.76109362803587, 39.75348872209261, 39.757110016505386, 39.54510668106491, 39.81417573466233, 39.6468555276319, 39.61666999223312, 39.60630968318092, 40.00007092206575, 40.018402347727296, 39.85196755330818, 39.766636113713815, 39.80613914683677, 39.94757699623356, 39.673998948538404, 39.55195195490524, 39.44232646474656, 39.9422754104326, 39.868063879478754, 39.6626813324145, 39.47693953023531, 39.596877883299356, 39.90124179278448, 39.78015238976015, 39.66370069103808, 39.626913466776514, 39.62895120362316, 39.80392170251194, 39.838606687645914, 39.38047930559553, 39.89783714212488, 39.21820485308909, 39.724924171471386, 39.95753615436002, 39.8024433787543, 39.69932763673154, 39.590202876901685, 40.02778954243721, 39.45588371418961, 39.73108349749897, 39.72012100373335, 39.68414776467601, 39.46393592378726, 39.91521147798894, 39.875384729482946, 40.15863543663444, 39.82171884804268, 39.23127576535408, 39.93288012195517, 39.93457584304287, 39.691431259427006, 39.78274855825524, 39.80659338182352, 39.90505184243526, 39.946299862339494, 39.53315134921818, 39.59882410870744, 39.888500331302794, 39.736831520954674, 39.97660946868385, 39.78444780762625, 39.82388911750598, 39.309900689348524, 39.87470401804264, 39.80086933802106, 39.823890431667785, 39.75109730985561, 40.059415420324534, 39.75700413295938, 39.632545026331925, 39.74801962112667, 39.98373149350447, 39.70502522071698, 40.08022210159277, 39.62519641548344, 39.75849945668764, 39.87093522966764, 39.682076018149495, 39.65186241096469, 39.36766489851647, 40.04264265412997, 39.821648261198405, 39.7122175333849, 39.72485648014586, 39.82921674522009, 39.88780656844246, 39.620044797501265, 39.84436600484108, 39.232743295399246, 39.423745991026536]\n",
            "means_without_alice age          :  [40.16145068441406, 39.993871623967166, 40.07229108154276, 39.91855877342811, 39.77780978206326, 40.21463684820078, 39.7635365238474, 39.993431612574554, 39.727758019812086, 40.088132049221, 40.188722064821576, 39.7751633072216, 39.86528297151528, 39.81108188080554, 40.03054997637929, 39.835971310265116, 40.08571660878135, 39.92896848750977, 39.71456095869805, 40.08377969902128, 40.051749612992886, 39.688513709505344, 40.11114981524514, 39.79318666393378, 39.953833625015875, 39.833891271332014, 40.13397164294348, 39.86947313776905, 39.86721881916126, 40.23048951618184, 40.1202436018394, 40.21528945422886, 40.0696940204244, 40.20921407078189, 39.96160213638912, 40.146676233468256, 39.97209670732288, 40.184976643105706, 39.966462188338504, 40.29330889605416, 39.87155973253228, 40.34661737974393, 40.30006646165319, 39.75217016571969, 40.10896785289187, 39.682579178376585, 40.12456009952702, 39.656565259396444, 39.850049174350076, 40.018140850958225, 40.052979239878596, 39.803352073098736, 39.72483502018488, 39.848347290603975, 39.81992526833022, 40.141256983547066, 39.901335455673895, 40.11421017411225, 39.788574805052484, 40.09246802756063, 40.01746843655659, 40.5298610818615, 39.60401386374979, 40.23352018426365, 39.95253435492565, 40.08328605199929, 40.03736476194202, 40.06659557936291, 39.858882713032, 39.561282024699246, 39.957417781144336, 40.03345094635678, 40.03779612156814, 39.76013468070569, 39.99248915732013, 40.06979788287671, 40.2984263022186, 40.272630819017074, 40.212466817076354, 40.232932816635, 39.95589384403193, 40.1975893417677, 39.80306868577563, 39.78947367409508, 40.06812818823734, 39.976220770541204, 40.39299422398564, 39.723000040584715, 40.0720834064214, 39.899779621165514, 40.20577762223557, 39.87177203485347, 39.99468342223343, 39.9747709957027, 40.05107040593621, 40.45240799958659, 39.904616732781996, 40.220156761803764, 39.81033986756744, 40.04359182314266, 39.89685145040592, 40.06080619470366, 39.8349611559826, 40.21381291160544, 39.986004464316004, 39.93056597799266, 40.100153505766045, 40.0503558025205, 40.05099420414503, 40.30375944473591, 40.15602170534534, 39.59111398058843, 40.0675328699169, 39.90683967958826, 40.18195680772973, 39.72716696426218, 40.21755009467594, 39.539695700164316, 40.44870847096636, 40.0054714516562, 39.665783173944895, 39.68458429914811, 40.205024435122105, 39.843068093356955, 39.92209788634879, 39.804485910383825, 39.90318932916994, 40.47374227722243, 39.798424626441275, 40.099691256918106, 40.31868832705899, 39.89013149804743, 39.89113687753355, 40.27935187388995, 39.97364431242094, 40.19472808534935, 40.21658141125504, 40.17441053735846, 40.20815269816051, 39.99389721131426, 39.76821167037654, 40.06530616351505, 39.86308149969917, 39.98141405173439, 40.17698715934099, 39.75488860315904, 40.13474291717603, 39.88764365074817, 40.12238639408064, 39.66654103883747, 40.09105469213926, 40.09047126455785, 40.10959745653186, 40.30171692848432, 39.87077209905933, 40.13136038177991, 40.14912098632825, 39.95128718811129, 39.77157343402432, 39.90325111310955, 39.964118243439465, 39.97895583762748, 39.81705258159368, 40.07723967510861, 39.477101590399236, 39.84092076507192, 40.09308728873034, 40.10893350494927, 39.6614980483434, 40.41085872920306, 39.94509126895497, 40.2335176760958, 39.97918382601824, 39.62487064632114, 40.20470986949476, 39.62168124825675, 40.64952024634489, 40.013580242437776, 39.8520531556625, 39.932808792587444, 39.75922493125373, 40.06194373513074, 39.98423460860837, 39.75880385119529, 40.390306216865504, 39.80958175808649, 40.264171368670915, 39.98550865976659, 39.78203273237029, 39.64410507648602, 40.0070257971774, 39.79218779776861, 39.97046927293078, 39.94248155200738, 40.22939239965468, 40.15125914823798, 40.05169595633328, 39.65062768628316, 40.34082977133527, 40.02807681263677, 39.67435515759704, 39.78957524536555, 39.96111132809039, 39.79046217515315, 39.78938127248957, 39.872552917451756, 39.896955526608, 39.803257227118735, 40.118951178646746, 40.12200549239738, 39.98108321921284, 40.06060235468596, 39.95456610935611, 39.540423363283544, 39.842294699702876, 39.93109683530051, 40.08366164664397, 39.973255110535945, 40.101192227925004, 40.12629647281401, 39.92976776137707, 39.78920799601923, 40.231618917179134, 40.476620590932306, 40.07913618968158, 39.892128246577, 39.90669640386767, 40.185306749641526, 40.025357550923715, 40.170722065915335, 40.26728065412962, 39.883751760134395, 39.895288918411175, 40.168826040050156, 40.396437930654336, 39.93937457695603, 39.777120154062715, 40.20620325505389, 39.949842732247006, 39.832925041066915, 39.85730939574239, 39.941347754397555, 40.25112626876084, 39.604306452563804, 39.816971573086995, 39.639400090863894, 40.03055879049566, 39.94482446772369, 39.781729080324055, 40.5099507616382, 39.68409165651747, 39.94027452703561, 39.8091041981119, 39.757408278683656, 39.99287046278556, 39.98817096247416, 40.20121478521372, 39.98024431595464, 40.46765552470141, 40.16482155493634, 39.91624797486562, 39.55274158739531, 40.312239078675795, 40.01529462562262, 40.06528948436665, 40.15838853447719, 40.23040387761362, 39.95792030454687, 39.86365150384125, 39.75242776309455, 39.875540513007394, 39.65361724824362, 39.851244673694914, 40.09642979829916, 40.02300571227778, 40.190135843802615, 39.78440369601365, 39.948611205426374, 39.68065734137463, 40.18700243903466, 40.05240648484068, 39.71707606307883, 39.92702187815101, 39.80513004671506, 40.11732174410052, 39.825727862250524, 39.8469616732608, 40.02344888411715, 39.96803311431679, 39.70872286800431, 39.67364178647295, 40.31417581619518, 40.064391446225414, 40.43788717789864, 39.909683232721655, 40.03869305086746, 40.04485428732766, 39.582053901113966, 40.109998410265575, 39.91776978550647, 39.878909867610595, 39.87583756577212, 40.04819745143754, 40.12568202113221, 40.293139672519196, 40.16218908422445, 40.07622171910624, 39.71664248735051, 39.77310820081738, 40.163011064962596, 40.03104764933757, 40.2334917934401, 40.22033068392143, 39.99400921194403, 39.848250431768534, 40.132590287694654, 39.92922247809835, 39.89332810202942, 39.8951075343341, 39.850482543150505, 39.984466608092156, 39.8160564934881, 40.109206311731405, 40.048262103318955, 39.89708380732723, 40.05236279015029, 39.82851500807889, 40.0062122607066, 40.19033744329221, 40.50035918096782, 39.85564245837963, 40.41107207927719, 39.973945710856135, 40.15660928163655, 39.74530416202198, 39.964002392137814, 39.79620289899016, 40.090166034411766, 40.215743998146074, 39.779169180121684, 40.16250461654325, 39.6718641708048, 40.16104336005004, 39.94790588058224, 40.1186323704085, 40.01816594282843, 39.96353047042652, 39.983197455784456, 40.14422644950321, 39.7571045226801, 39.73311706473251, 40.40664351201024, 40.12566964709034, 39.9390904611424, 40.08411103705808, 40.153965575037745, 39.674422467050306, 40.071865201165174, 40.21840840101201, 40.04218786085878, 39.86789618941201, 39.76764969548723, 40.00997529013957, 39.966678882524, 39.63747252340667, 40.00950677357503, 40.17485690024626, 39.941471377330615, 39.90569135973637, 40.03855492302836, 40.118369573535006, 40.09866713743691, 40.05120598310947, 39.854664976871554, 39.858597928672914, 39.76557816227129, 39.836881490022584, 40.09534498304232, 39.53944284584358, 40.23975295240333, 39.74793308498229, 40.177410947569335, 40.19218056171583, 40.07418059277698, 40.02549288698511, 40.15003244118797, 39.91817791418478, 39.73693114891919, 39.88995588579346, 39.959541927429605, 40.1827968381162, 40.25637576115641, 40.08740309634984, 40.05959243984021, 40.136489143420846, 39.92300526814389, 40.06763551600129, 39.816104832484775, 40.20142564695695, 39.86553917002502, 39.99717084907117, 39.77459025342722, 40.06419298280877, 39.82355717689895, 40.18839713990798, 40.09556779627875, 39.835705450292835, 39.90226281124993, 39.91355728625646, 40.19506440008093, 40.10119246519079, 39.97815661308029, 39.826802763649646, 39.9760693138455, 40.24453490817105, 40.17971928791946, 40.364747736618305, 39.93251452838643, 40.16082508358095, 39.94885372988174, 39.841030053839866, 40.17824391876075, 40.34822088962949, 39.94792802630704, 40.31356552212868, 40.54276652220232, 40.079851443560734, 40.18843219400844, 39.976368487326084, 40.02363527334197, 40.03933071115251, 39.72455699204319, 40.504262025062054, 40.05739365287949, 39.86600444735097, 39.84745601365543, 40.2506774138041, 39.841004128709315, 40.198783496949346, 40.24220761897683, 39.83511344191888, 39.611270566038584, 39.88696257069469, 39.796927306008044, 40.08717972616103, 40.16749088323424, 40.108024390435766, 39.954763940741216, 39.555912161104736, 39.70286635164133, 39.836091593608884, 39.80301325573765, 39.7721362862741, 40.147756120463285, 39.94951431900524, 40.33026717476068, 39.958950726749066, 39.84158668420765, 39.916508317734824, 40.05226919170942, 39.71940586403479, 39.994847544636876, 40.01018864317773, 40.147915480360226, 40.03567872154225, 39.747788809247915, 40.23822985787352, 39.8312274130882, 40.213292458802414, 40.158317426720295, 40.16014982875074, 39.985901932385794, 40.07087656993812, 39.970919548213395, 40.13450289432973, 40.0099490477372, 40.14347165806599, 40.07584820814478, 39.839759419874355, 39.58998491079843, 39.952005300547846, 40.07588457980806, 39.784464355413505, 40.132420507110936, 39.81412830345528, 40.04448541754876, 40.26369866160566, 40.10633460735806, 40.060269013757576, 40.00583104669148, 40.04925055141218, 39.976332506046866, 39.83834546206276, 39.998076092337634, 40.22387021987776, 40.076195021346756, 40.007456009415854, 40.19317759239912, 40.40153402778268, 39.82905708420635, 40.122515053211934, 39.727043075419566, 40.298885679716676, 40.13560539661043, 39.9044632226472, 40.118369820679526, 40.12549875952167, 39.83421915014156, 40.01709347334535, 39.711330277197206, 39.789359582842515, 40.08890760686579, 40.25586775294689, 39.884875982828305, 39.7897588315736, 39.73244443474819, 40.121715879637776, 39.84464785161819, 39.83281665000048, 39.8109623760082, 39.714525621609674, 39.98428342873735, 39.86540275804511, 40.15844918617407, 39.8000070755878, 40.27486678268556, 40.333919728352775, 39.868167068381354, 39.868131656056654, 40.15318858827556, 39.946092083148045, 39.74054134030736, 40.14490770592158, 39.86792015145098, 39.892435856401086, 39.80123697484725, 40.27319329416564, 40.07666365063209, 40.104779641522974, 40.18177801518484, 39.92634635999809, 40.30061410832625, 39.92507880198297, 39.87840885620642, 40.14134716795957, 40.0135379605412, 39.79590919457237, 40.104756615034766, 40.240254213026176, 39.96647559157878, 40.323564385256326, 39.887071814957515, 39.860942131296376, 40.21304212219869, 40.21226936547372, 39.95365561340216, 39.98410771811311, 40.087165664202395, 39.90729326049639, 39.97526739056374, 40.02042504231342, 40.00699289955583, 40.19826999326972, 40.251016111243295, 40.0546543264914, 39.85993674317296, 40.205200116920025, 40.13517838355947, 40.12286311768994, 39.60015797525582, 40.028606553921946, 40.2206381931687, 40.344183957026864, 40.34946830136646, 40.23835141341847, 40.1743352944513, 39.831005261744664, 40.075548581587285, 40.42839462025675, 39.909327817228856, 40.1436744958821, 39.88588226852871, 39.69311916543852, 40.119922311992575, 39.83121689118361, 39.749608995891556, 39.97245518091671, 39.78140132918242, 39.8925272667445, 40.27874988789944, 39.80139988791961, 40.114232328765716, 39.91518011692534, 40.0692559526324, 39.78020084467666, 40.18813534897754, 40.081656384909365, 40.12784191518668, 39.92961079206884, 40.01694383368617, 40.0757044446874, 40.0047865202706, 39.72432332493629, 40.17883709200091, 39.975113191596606, 40.3078947276378, 39.933511430167776, 40.062633622425174, 39.99675579749246, 40.157342873921756, 39.85856193983556, 39.91650986958614, 40.173018446050335, 40.02890516452054, 39.774542358929914, 40.39186674202167, 40.2730270295065, 40.14189636527171, 39.83309973526383, 39.81172499870867, 40.03653507400361, 40.05404643480321, 40.17378021178871, 40.23314480602674, 39.54426826132261, 40.05552195703655, 39.84716568475518, 39.95512153876062, 39.9616631433232, 40.23173348368393, 40.083081528579605, 39.76000856341034, 40.44023021916934, 40.03432973729166, 40.22995210976595, 39.8857570768038, 39.605010572879614, 39.743115062631446, 40.207951562247224, 40.07352382314129, 39.96694806274458, 39.824033567981616, 40.4735093247827, 39.58560342041338, 39.79254604943742, 39.882514473104585, 39.84367243658786, 39.83300411090202, 40.26096026898431, 39.56428127579614, 40.19057426274836, 39.89021603914045, 39.608022155826255, 39.944705897025784, 39.79788742183175, 40.34056520159512, 40.04068797186185, 40.06476453578831, 39.97434409003957, 40.01205386580018, 39.973938987271424, 40.274923381704646, 39.60859344676931, 40.24572347399215, 39.970413072285055, 39.843478286673104, 39.866656542367075, 40.12152451254102, 39.88307662266125, 40.3229908130756, 39.82222339659286, 39.63783102590382, 39.72818334954679, 40.29935179275672, 39.83347544971501, 40.00502419582681, 39.81279962823852, 40.07542239927082, 40.09688908341944, 39.81671230874526, 39.62001975273911, 39.91203570800498, 40.389301924842115, 39.62720630241048, 40.17302232434326, 39.800335414841854, 40.11893324795326, 40.069099643867666, 40.099031382931486, 39.95269657682017, 40.20351471924073, 40.035292185372676, 40.010358941764515, 39.938857641007196, 39.820930295649624, 39.70394013565331, 39.84014742204308, 39.99466124146992, 40.08924869215619, 39.96959684432347, 40.081268111041176, 39.98836948173603, 39.887645434490516, 40.2073147881737, 39.71970655610872, 40.220537136890385, 40.06145489693422, 39.72801637010523, 40.16621239609959, 39.762756448152686, 39.89329737392618, 40.1044656960745, 40.175297941674344, 39.997934017819595, 40.287500700345355, 40.26303051108544, 39.727695520274494, 40.0256233340905, 40.14671480798246, 39.8787478797269, 40.308805254438475, 40.19248372938295, 40.01657997641018, 40.251925335793196, 40.05839066154226, 40.06186668984015, 39.83548740436588, 39.95015505482629, 40.05488924952049, 40.16957013993681, 40.03110310921823, 39.82341868538866, 40.00139914280264, 39.94570048861082, 40.095743043143706, 40.13518505555296, 39.808445684159054, 40.0486320112958, 40.057489936505405, 39.930903290749285, 40.11283507517271, 40.49532474886572, 39.92118216303346, 39.71711465006015, 40.362094810601505, 40.225871972308695, 40.198489250505055, 40.16131383310394, 39.780775924719904, 40.066807871959995, 39.83471913990257, 40.00821534601386, 40.05394627087178, 40.004145541704425, 39.8548539701171, 39.69628245945849, 40.07967332367294, 39.6559910889881, 40.09109453320758, 40.24176041708665, 39.880440487920275, 40.11826961539117, 40.17726261726471, 40.39149358647572, 40.40710915865707, 39.85115360091261, 40.13273211722303, 40.388698558301094, 39.853515806572865, 40.24235222938216, 40.09180299402025, 40.22088912323628, 39.78240666149714, 39.89134769407214, 39.42752645652067, 39.766803679741294, 40.13794207906708, 39.665782262582695, 39.96294575711061, 40.00180407806308, 39.61458441275333, 40.22674883190911, 39.84111773509684, 40.12818347009773, 39.892079193157855, 40.10266546901765, 39.74065681436295, 40.08131316780349, 39.7019469792052, 40.51364730630844, 40.07853670710304, 39.708607944735135, 40.002186431337776, 39.68741089114098, 39.89228569941093, 40.41818954808824, 40.19923608368755, 40.1053666760197, 40.04003225596345, 40.27869589108062, 40.20419291609521, 39.73418327922558, 39.820637424406, 39.637643304170716, 40.34380596631067, 40.06991659686924, 39.91360757828612, 39.77753708592021, 39.91683402191079, 39.96164603477274, 39.8204890239155, 39.9732510415387, 40.008474828349534, 40.198102208168734, 40.06624584151691, 40.237755413952655, 40.172088140570814, 40.22053225665488, 40.06013345107303, 40.26637734803855, 39.778916182388535, 39.76640328698035, 39.931450426947684, 40.15517322769169, 40.1065416798827, 40.12721868176497, 40.16823026956256, 39.99680722932941, 40.15013432177779, 40.14594325330541, 40.097003406852515, 39.891829816013455, 40.071675909328135, 40.17341582695375, 40.45156792526598, 40.06226012165899, 40.19240838411499, 40.07089799991283, 40.01790270671586, 39.97602743630466, 40.05445985255253, 39.85164173212477, 39.930741657019674, 39.897230032722064, 40.031613228708764, 39.95585786497244, 39.9383117227284, 40.11121746500066, 39.90664607172728, 39.58838585193156, 40.06326302115948, 39.90086699933266, 39.62070137409736, 40.0530407020173, 40.49917978769089, 39.89377795000395, 39.7392289166785, 39.822238268499966, 40.07974290465754, 39.82233396872494, 39.822763265285474, 39.96870553530712, 39.808978952513684, 40.044312523719675, 40.06478451288944, 39.8121099996093, 40.077889654596795, 40.12833010944695, 40.06314866296755, 40.2304854932141, 39.96680546186429, 40.319890601812446, 40.03390137649144, 39.94244968830452, 39.79300334834409, 39.90228981371344, 40.39554526428536, 40.46967827586738, 40.167999248522754, 39.824619334806854, 40.087015305609654, 39.557685974748544, 40.12567795919328, 40.006163438466636, 39.938486476864654, 40.05696760498383, 40.02257572278477, 39.853518041719475, 39.98581121007602, 40.098220866886315, 39.98262780746175, 39.51790905387465, 40.277764820839856, 40.04084942810754, 40.0110952217827, 39.30454539686707, 39.96681665183217, 40.30048684239251, 39.83479681694734, 40.049797544549676, 39.99432343880614, 40.193802069964335, 39.63853298181279, 40.165299060284624, 40.16189736111144, 39.941176822447794, 39.74059818324196, 40.141424974672944, 39.73445291753106, 40.13298110326555, 39.930585034248395, 40.25250098768452, 39.810791033473365, 39.85182304442889, 39.935531718354056, 39.6657767248652, 40.153839314840084, 40.03929315003017, 39.89789303559679, 40.0974781058945, 39.932475020943436, 40.14464165806428, 39.579939962768975, 40.036599658761894, 39.8451558420002, 39.882472951535924, 40.03297958751631, 39.80018704661329, 40.25245742510799, 39.94258296704891, 40.220264191591056, 39.86012851666191, 40.334185346517856, 40.14970187476521, 39.63815988795051, 39.94575900401478, 40.215394032019844, 40.48990206446776, 40.19645754443291, 39.64195018138254, 40.06827024334972, 39.85717696024349, 39.95382455713286, 40.07607552976401, 39.82099755703282, 39.90150352184711, 40.01274351280455, 40.06820873056034, 40.04923601102855, 39.75750022226932, 39.85431091827962, 39.97002263158189, 40.094773391506244, 39.902619094259364, 40.12962824957337, 40.156188269307556, 40.09783181602461, 40.109216509672045, 39.8680977621027, 39.831488020112765, 40.02246022313312, 39.66771489062133, 39.804601487590304, 40.18584595779729, 40.10732846312289, 39.824743902311596, 39.95752631766487, 40.10533293011342, 40.165896128635275, 39.98550903688736, 39.86823112201906, 40.0967242068023, 39.9520084849197, 39.64364067486463, 39.93676845302318, 39.61145662453812, 40.122795019167235, 40.02759671362394, 40.031898546229584, 40.12894068927728, 39.72325218624781, 39.843597337067855, 40.31788027068177, 40.228840504794086, 39.974164720693544, 39.98286650256782, 40.074092615016205, 39.96621883280833, 39.84862404088504, 39.78367844033462, 40.1990040652446, 39.78007954206882, 39.9138433586532, 40.3245299657414, 40.039943809641436, 40.07944440689157, 39.84895718386826, 40.211035536095, 40.07279757066668, 39.8242563652476]\n",
            "alice_age          :  24\n",
            "alice_age influence:  -0.2537783890259462\n"
          ]
        }
      ]
    },
    {
      "cell_type": "markdown",
      "source": [
        "# Sources:\n",
        "\n",
        "- [privacy-criteria](https://arx.deidentifier.org/overview/privacy-criteria/)"
      ],
      "metadata": {
        "id": "-kb5aL6wrG9a"
      }
    }
  ]
}